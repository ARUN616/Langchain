{
 "cells": [
  {
   "cell_type": "code",
   "execution_count": 2,
   "metadata": {},
   "outputs": [],
   "source": [
    "## Graphdb configuration\n",
    "NEO4J_URI=\"neo4j+s://ff9960b9.databases.neo4j.io\"\n",
    "NEO4J_USERNAME=\"neo4j\"\n",
    "NEO4J_PASSWORD=\"CDmgGKNF41H4y26wukit8TAfc0_Dq2Kc0f1Sq0g9db4\""
   ]
  },
  {
   "cell_type": "code",
   "execution_count": 3,
   "metadata": {},
   "outputs": [],
   "source": [
    "import os \n",
    "os.environ[\"NEO4J_URI\"]=NEO4J_URI\n",
    "os.environ[\"NEO4J_USERNAME\"]=NEO4J_USERNAME\n",
    "os.environ[\"NEO4J_PASSWORD\"]=NEO4J_PASSWORD"
   ]
  },
  {
   "cell_type": "code",
   "execution_count": 5,
   "metadata": {},
   "outputs": [],
   "source": [
    "from langchain_community.graphs import Neo4jGraph\n",
    "graph=Neo4jGraph(\n",
    "    url=NEO4J_URI,\n",
    "    username=NEO4J_USERNAME,\n",
    "    password=NEO4J_PASSWORD,\n",
    ")"
   ]
  },
  {
   "cell_type": "code",
   "execution_count": 6,
   "metadata": {},
   "outputs": [
    {
     "data": {
      "text/plain": [
       "<langchain_community.graphs.neo4j_graph.Neo4jGraph at 0x2619fce95a0>"
      ]
     },
     "execution_count": 6,
     "metadata": {},
     "output_type": "execute_result"
    }
   ],
   "source": [
    "graph# connected to graph database"
   ]
  },
  {
   "cell_type": "code",
   "execution_count": 7,
   "metadata": {},
   "outputs": [
    {
     "data": {
      "text/plain": [
       "ChatGroq(client=<groq.resources.chat.completions.Completions object at 0x00000261A09142E0>, async_client=<groq.resources.chat.completions.AsyncCompletions object at 0x00000261A08E75E0>, model_name='Gemma2-9b-It', groq_api_key=SecretStr('**********'))"
      ]
     },
     "execution_count": 7,
     "metadata": {},
     "output_type": "execute_result"
    }
   ],
   "source": [
    "from dotenv import load_dotenv\n",
    "from langchain_groq import ChatGroq\n",
    "\n",
    "load_dotenv()\n",
    "groq_api_key=os.getenv('GROQ_API_KEY')\n",
    "\n",
    "\n",
    "llm=ChatGroq(groq_api_key=groq_api_key,\n",
    "             model_name=\"Gemma2-9b-It\")\n",
    "llm\n"
   ]
  },
  {
   "cell_type": "code",
   "execution_count": 8,
   "metadata": {},
   "outputs": [],
   "source": [
    "from langchain_core.documents import Document\n",
    "text=\"\"\"\n",
    "Ajith Kumar and Thalapathy Vijay are two of the most prominent and celebrated actors in Tamil cinema, often seen as rivals due to their massive fan bases and box office successes. Ajith, fondly known as \"Thala,\" is renowned for his versatility and intense performances, particularly in action-packed roles. With films like \"Mankatha,\" \"Vedalam,\" and \"Viswasam,\" Ajith has established himself as a bankable star, known for his stylish demeanor and strong screen presence. His ability to portray complex characters with ease has earned him critical acclaim and a loyal following.\n",
    "\n",
    "Thalapathy Vijay, on the other hand, is known for his charismatic screen presence, exceptional dance skills, and mass appeal. With a career spanning over three decades, Vijay has delivered numerous blockbusters, including \"Ghilli,\" \"Thuppakki,\" and \"Master.\" His films often carry a strong social message, resonating with a wide audience. Vijay's performances are marked by his energy and commitment, making him a favorite among fans of all ages.\n",
    "\n",
    "Both actors have a few films together early in their careers, such as \"Rajavin Parvaiyile\" and \"Rajavin Paarvaiyile,\" where they shared the screen before they became megastars. Their careers have since evolved independently, creating their own legacies in Tamil cinema.\n",
    "\"\"\"\n"
   ]
  },
  {
   "cell_type": "code",
   "execution_count": 9,
   "metadata": {},
   "outputs": [],
   "source": [
    "document=[Document(page_content=text)]"
   ]
  },
  {
   "cell_type": "code",
   "execution_count": 10,
   "metadata": {},
   "outputs": [
    {
     "data": {
      "text/plain": [
       "[Document(page_content='\\nAjith Kumar and Thalapathy Vijay are two of the most prominent and celebrated actors in Tamil cinema, often seen as rivals due to their massive fan bases and box office successes. Ajith, fondly known as \"Thala,\" is renowned for his versatility and intense performances, particularly in action-packed roles. With films like \"Mankatha,\" \"Vedalam,\" and \"Viswasam,\" Ajith has established himself as a bankable star, known for his stylish demeanor and strong screen presence. His ability to portray complex characters with ease has earned him critical acclaim and a loyal following.\\n\\nThalapathy Vijay, on the other hand, is known for his charismatic screen presence, exceptional dance skills, and mass appeal. With a career spanning over three decades, Vijay has delivered numerous blockbusters, including \"Ghilli,\" \"Thuppakki,\" and \"Master.\" His films often carry a strong social message, resonating with a wide audience. Vijay\\'s performances are marked by his energy and commitment, making him a favorite among fans of all ages.\\n\\nBoth actors have a few films together early in their careers, such as \"Rajavin Parvaiyile\" and \"Rajavin Paarvaiyile,\" where they shared the screen before they became megastars. Their careers have since evolved independently, creating their own legacies in Tamil cinema.\\n')]"
      ]
     },
     "execution_count": 10,
     "metadata": {},
     "output_type": "execute_result"
    }
   ],
   "source": [
    "document"
   ]
  },
  {
   "cell_type": "code",
   "execution_count": 11,
   "metadata": {},
   "outputs": [],
   "source": [
    "from langchain_experimental.graph_transformers import LLMGraphTransformer\n",
    "llm_transformer=LLMGraphTransformer(llm=llm)"
   ]
  },
  {
   "cell_type": "code",
   "execution_count": 12,
   "metadata": {},
   "outputs": [],
   "source": [
    "graph_documents=llm_transformer.convert_to_graph_documents(document)"
   ]
  },
  {
   "cell_type": "code",
   "execution_count": 13,
   "metadata": {},
   "outputs": [
    {
     "data": {
      "text/plain": [
       "[GraphDocument(nodes=[Node(id='Ajith Kumar', type='Person'), Node(id='Thalapathy Vijay', type='Person')], relationships=[Relationship(source=Node(id='Ajith Kumar', type='Person'), target=Node(id='Thalapathy Vijay', type='Person'), type='COSTAR'), Relationship(source=Node(id='Ajith Kumar', type='Person'), target=Node(id='Person', type='Person'), type='RIVAL'), Relationship(source=Node(id='Thalapathy Vijay', type='Person'), target=Node(id='Person', type='Person'), type='RIVAL')], source=Document(page_content='\\nAjith Kumar and Thalapathy Vijay are two of the most prominent and celebrated actors in Tamil cinema, often seen as rivals due to their massive fan bases and box office successes. Ajith, fondly known as \"Thala,\" is renowned for his versatility and intense performances, particularly in action-packed roles. With films like \"Mankatha,\" \"Vedalam,\" and \"Viswasam,\" Ajith has established himself as a bankable star, known for his stylish demeanor and strong screen presence. His ability to portray complex characters with ease has earned him critical acclaim and a loyal following.\\n\\nThalapathy Vijay, on the other hand, is known for his charismatic screen presence, exceptional dance skills, and mass appeal. With a career spanning over three decades, Vijay has delivered numerous blockbusters, including \"Ghilli,\" \"Thuppakki,\" and \"Master.\" His films often carry a strong social message, resonating with a wide audience. Vijay\\'s performances are marked by his energy and commitment, making him a favorite among fans of all ages.\\n\\nBoth actors have a few films together early in their careers, such as \"Rajavin Parvaiyile\" and \"Rajavin Paarvaiyile,\" where they shared the screen before they became megastars. Their careers have since evolved independently, creating their own legacies in Tamil cinema.\\n'))]"
      ]
     },
     "execution_count": 13,
     "metadata": {},
     "output_type": "execute_result"
    }
   ],
   "source": [
    "graph_documents"
   ]
  },
  {
   "cell_type": "code",
   "execution_count": 14,
   "metadata": {},
   "outputs": [
    {
     "data": {
      "text/plain": [
       "[Node(id='Ajith Kumar', type='Person'),\n",
       " Node(id='Thalapathy Vijay', type='Person')]"
      ]
     },
     "execution_count": 14,
     "metadata": {},
     "output_type": "execute_result"
    }
   ],
   "source": [
    "graph_documents[0].nodes"
   ]
  },
  {
   "cell_type": "code",
   "execution_count": 15,
   "metadata": {},
   "outputs": [
    {
     "data": {
      "text/plain": [
       "[Relationship(source=Node(id='Ajith Kumar', type='Person'), target=Node(id='Thalapathy Vijay', type='Person'), type='COSTAR'),\n",
       " Relationship(source=Node(id='Ajith Kumar', type='Person'), target=Node(id='Person', type='Person'), type='RIVAL'),\n",
       " Relationship(source=Node(id='Thalapathy Vijay', type='Person'), target=Node(id='Person', type='Person'), type='RIVAL')]"
      ]
     },
     "execution_count": 15,
     "metadata": {},
     "output_type": "execute_result"
    }
   ],
   "source": [
    "graph_documents[0].relationships"
   ]
  },
  {
   "cell_type": "code",
   "execution_count": 16,
   "metadata": {},
   "outputs": [],
   "source": [
    "\n",
    "### Load the dataset of movie\n",
    "\n",
    "movie_query=\"\"\"\n",
    "LOAD CSV WITH HEADERS FROM\n",
    "'https://raw.githubusercontent.com/tomasonjo/blog-datasets/main/movies/movies_small.csv' as row\n",
    "\n",
    "MERGE(m:Movie{id:row.movieId})\n",
    "SET m.released = date(row.released),\n",
    "    m.title = row.title,\n",
    "    m.imdbRating = toFloat(row.imdbRating)\n",
    "FOREACH (director in split(row.director, '|') |\n",
    "    MERGE (p:Person {name:trim(director)})\n",
    "    MERGE (p)-[:DIRECTED]->(m))\n",
    "FOREACH (actor in split(row.actors, '|') |\n",
    "    MERGE (p:Person {name:trim(actor)})\n",
    "    MERGE (p)-[:ACTED_IN]->(m))\n",
    "FOREACH (genre in split(row.genres, '|') |\n",
    "    MERGE (g:Genre {name:trim(genre)})\n",
    "    MERGE (m)-[:IN_GENRE]->(g))\n",
    "\"\"\""
   ]
  },
  {
   "cell_type": "code",
   "execution_count": 17,
   "metadata": {},
   "outputs": [
    {
     "data": {
      "text/plain": [
       "<langchain_community.graphs.neo4j_graph.Neo4jGraph at 0x2619fce95a0>"
      ]
     },
     "execution_count": 17,
     "metadata": {},
     "output_type": "execute_result"
    }
   ],
   "source": [
    "graph "
   ]
  },
  {
   "cell_type": "code",
   "execution_count": 18,
   "metadata": {},
   "outputs": [
    {
     "data": {
      "text/plain": [
       "[]"
      ]
     },
     "execution_count": 18,
     "metadata": {},
     "output_type": "execute_result"
    }
   ],
   "source": [
    "graph.query(movie_query)"
   ]
  },
  {
   "cell_type": "code",
   "execution_count": 19,
   "metadata": {},
   "outputs": [
    {
     "name": "stdout",
     "output_type": "stream",
     "text": [
      "Node properties:\n",
      "Person {born: INTEGER, name: STRING, profession: STRING}\n",
      "Movie {title: STRING, released: INTEGER, id: STRING, imdbRating: FLOAT, actors: LIST, director: LIST, genres: LIST}\n",
      "Genre {name: STRING}\n",
      "Director {name: STRING}\n",
      "Actor {name: STRING}\n",
      "Relationship properties:\n",
      "\n",
      "The relationships:\n",
      "(:Person)-[:ACTED_IN]->(:Movie)\n",
      "(:Person)-[:DIRECTED]->(:Movie)\n",
      "(:Movie)-[:IN_GENRE]->(:Genre)\n"
     ]
    }
   ],
   "source": [
    "graph.refresh_schema()\n",
    "print(graph.schema)"
   ]
  },
  {
   "cell_type": "code",
   "execution_count": 20,
   "metadata": {},
   "outputs": [
    {
     "data": {
      "text/plain": [
       "GraphCypherQAChain(verbose=True, graph=<langchain_community.graphs.neo4j_graph.Neo4jGraph object at 0x000002619FCE95A0>, cypher_generation_chain=LLMChain(prompt=PromptTemplate(input_variables=['question', 'schema'], template='Task:Generate Cypher statement to query a graph database.\\nInstructions:\\nUse only the provided relationship types and properties in the schema.\\nDo not use any other relationship types or properties that are not provided.\\nSchema:\\n{schema}\\nNote: Do not include any explanations or apologies in your responses.\\nDo not respond to any questions that might ask anything else than for you to construct a Cypher statement.\\nDo not include any text except the generated Cypher statement.\\n\\nThe question is:\\n{question}'), llm=ChatGroq(client=<groq.resources.chat.completions.Completions object at 0x00000261A09142E0>, async_client=<groq.resources.chat.completions.AsyncCompletions object at 0x00000261A08E75E0>, model_name='Gemma2-9b-It', groq_api_key=SecretStr('**********'))), qa_chain=LLMChain(prompt=PromptTemplate(input_variables=['context', 'question'], template=\"You are an assistant that helps to form nice and human understandable answers.\\nThe information part contains the provided information that you must use to construct an answer.\\nThe provided information is authoritative, you must never doubt it or try to use your internal knowledge to correct it.\\nMake the answer sound as a response to the question. Do not mention that you based the result on the given information.\\nHere is an example:\\n\\nQuestion: Which managers own Neo4j stocks?\\nContext:[manager:CTL LLC, manager:JANE STREET GROUP LLC]\\nHelpful Answer: CTL LLC, JANE STREET GROUP LLC owns Neo4j stocks.\\n\\nFollow this example when generating answers.\\nIf the provided information is empty, say that you don't know the answer.\\nInformation:\\n{context}\\n\\nQuestion: {question}\\nHelpful Answer:\"), llm=ChatGroq(client=<groq.resources.chat.completions.Completions object at 0x00000261A09142E0>, async_client=<groq.resources.chat.completions.AsyncCompletions object at 0x00000261A08E75E0>, model_name='Gemma2-9b-It', groq_api_key=SecretStr('**********'))), graph_schema='Node properties are the following:\\nPerson {born: INTEGER, name: STRING, profession: STRING},Movie {title: STRING, released: INTEGER, id: STRING, imdbRating: FLOAT, actors: LIST, director: LIST, genres: LIST},Genre {name: STRING},Director {name: STRING},Actor {name: STRING}\\nRelationship properties are the following:\\n\\nThe relationships are the following:\\n(:Person)-[:ACTED_IN]->(:Movie),(:Person)-[:DIRECTED]->(:Movie),(:Movie)-[:IN_GENRE]->(:Genre)')"
      ]
     },
     "execution_count": 20,
     "metadata": {},
     "output_type": "execute_result"
    }
   ],
   "source": [
    "from langchain.chains import GraphCypherQAChain\n",
    "chain=GraphCypherQAChain.from_llm(llm=llm,graph=graph,verbose=True)\n",
    "chain"
   ]
  },
  {
   "cell_type": "code",
   "execution_count": 22,
   "metadata": {},
   "outputs": [
    {
     "name": "stdout",
     "output_type": "stream",
     "text": [
      "\n",
      "\n",
      "\u001b[1m> Entering new GraphCypherQAChain chain...\u001b[0m\n",
      "Generated Cypher:\n",
      "\u001b[32;1m\u001b[1;3mcypher\n",
      "MATCH (m:Movie {title: \"GoldenEye\"})<-[:ACTED_IN]-(a:Person)\n",
      "RETURN a.name\n",
      "\u001b[0m\n",
      "Full Context:\n",
      "\u001b[32;1m\u001b[1;3m[{'a.name': 'Pierce Brosnan'}, {'a.name': 'Famke Janssen'}, {'a.name': 'Sean Bean'}, {'a.name': 'Izabella Scorupco'}]\u001b[0m\n",
      "\n",
      "\u001b[1m> Finished chain.\u001b[0m\n"
     ]
    },
    {
     "data": {
      "text/plain": [
       "{'query': 'Who was actors of movie GoldenEye',\n",
       " 'result': 'Pierce Brosnan, Famke Janssen, Sean Bean, Izabella Scorupco  \\n'}"
      ]
     },
     "execution_count": 22,
     "metadata": {},
     "output_type": "execute_result"
    }
   ],
   "source": [
    "response=chain.invoke({'query':'Who was actors of movie GoldenEye'})\n",
    "response"
   ]
  },
  {
   "cell_type": "code",
   "execution_count": 23,
   "metadata": {},
   "outputs": [
    {
     "name": "stdout",
     "output_type": "stream",
     "text": [
      "\n",
      "\n",
      "\u001b[1m> Entering new GraphCypherQAChain chain...\u001b[0m\n",
      "Generated Cypher:\n",
      "\u001b[32;1m\u001b[1;3mMATCH (m:Movie)\n",
      "RETURN m.title, m.imdbRating\n",
      "ORDER BY m.imdbRating DESC\n",
      "LIMIT 5 \n",
      "\u001b[0m\n",
      "Full Context:\n",
      "\u001b[32;1m\u001b[1;3m[{'m.title': 'Billa', 'm.imdbRating': None}, {'m.title': 'Loe', 'm.imdbRating': None}, {'m.title': 'Shawshank Redemption, The', 'm.imdbRating': 9.3}, {'m.title': 'Shawshank Redemption, The', 'm.imdbRating': 9.3}, {'m.title': 'Pulp Fiction', 'm.imdbRating': 8.9}]\u001b[0m\n",
      "\n",
      "\u001b[1m> Finished chain.\u001b[0m\n"
     ]
    },
    {
     "data": {
      "text/plain": [
       "{'query': 'Top 5 imdb rating movies',\n",
       " 'result': 'Shawshank Redemption, The, Pulp Fiction \\n'}"
      ]
     },
     "execution_count": 23,
     "metadata": {},
     "output_type": "execute_result"
    }
   ],
   "source": [
    "response=chain.invoke({'query':'Top 5 imdb rating movies'})\n",
    "response"
   ]
  },
  {
   "cell_type": "code",
   "execution_count": null,
   "metadata": {},
   "outputs": [],
   "source": []
  }
 ],
 "metadata": {
  "kernelspec": {
   "display_name": "Python 3",
   "language": "python",
   "name": "python3"
  },
  "language_info": {
   "codemirror_mode": {
    "name": "ipython",
    "version": 3
   },
   "file_extension": ".py",
   "mimetype": "text/x-python",
   "name": "python",
   "nbconvert_exporter": "python",
   "pygments_lexer": "ipython3",
   "version": "3.10.14"
  }
 },
 "nbformat": 4,
 "nbformat_minor": 2
}
